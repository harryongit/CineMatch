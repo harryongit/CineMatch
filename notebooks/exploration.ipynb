# notebooks/exploration.ipynb
{
 "cells": [
  {
   "cell_type": "markdown",
   "metadata": {},
   "source": [
    "# Movie Recommender System - Data Exploration\n",
    "\n",
    "This notebook explores the MovieLens dataset and demonstrates the recommendation system functionality."
   ]
  },
  {
   "cell_type": "code",
   "execution_count": null,
   "metadata": {},
   "source": [
    "import sys\n",
    "sys.path.append('..')\n",
    "\n",
    "import pandas as pd\n",
    "import numpy as np\n",
    "import matplotlib.pyplot as plt\n",
    "import seaborn as sns\n",
    "\n",
    "from src.models.recommender import MovieRecommender"
   ]
  },
  {
   "cell_type": "markdown",
   "metadata": {},
   "source": [
    "## 1. Load and Explore Data"
   ]
  },
  {
   "cell_type": "code",
   "execution_count": null,
   "metadata": {},
   "source": [
    "# Initialize recommender\n",
    "recommender = MovieRecommender()\n",
    "recommender.load_data()\n",
    "\n",
    "# Display basic information\n",
    "print(\"Movies dataset shape:\", recommender.movies_df.shape)\n",
    "print(\"Ratings dataset shape:\", recommender.ratings_df.shape)"
   ]
  },
  {
   "cell_type": "markdown",
   "metadata": {},
   "source": [
    "## 2. Analyze Rating Distribution"
   ]
  },
  {
   "cell_type": "code",
   "execution_count": null,
   "metadata": {},
   "source": [
    "plt.figure(figsize=(10, 6))\n",
    "sns.histplot(data=recommender.ratings_df, x='rating', bins=10)\n",
    "plt.title('Distribution of Movie Ratings')\n",
    "plt.xlabel('Rating')\n",
    "plt.ylabel('Count')\n",
    "plt.show()"
   ]
  },
  {
   "cell_type": "markdown",
   "metadata": {},
   "source": [
    "## 3. Analyze Movie Genres"
   ]
  },
  {
   "cell_type": "code",
   "execution_count": null,
   "metadata": {},
   "source": [
    "# Extract all genres\n",
    "genres = recommender.movies_df['genres'].str.split('|', expand=True).stack()\n",
    "genre_counts = genres.value_counts()\n",
    "\n",
    "plt.figure(figsize=(12, 6))\n",
    "genre_counts.plot(kind='bar')\n",
    "plt.title('Distribution of Movie Genres')\n",
    "plt.xlabel('Genre')\n",
    "plt.ylabel('Count')\n",
    "plt.xticks(rotation=45)\n",
    "plt.tight_layout()\n",
    "plt.show()"
   ]
  },
  {
   "cell_type": "markdown",
   "metadata": {},
   "source": [
    "## 4. Test Recommendations"
   ]
  },
  {
   "cell_type": "code",
   "execution_count": null,
   "metadata": {},
   "source": [
    "# Train models\n",
    "recommender.train_content_based()\n",
    "recommender.train_collaborative()\n",
    "\n",
    "# Get recommendations\n",
    "movie_title = \"The Dark Knight\"\n",
    "user_id = 1\n",
    "\n",
    "print(\"Content-based recommendations for\", movie_title)\n",
    "print(recommender.get_content_based_recommendations(movie_title))\n",
    "print(\"\\nCollaborative recommendations for user\", user_id)\n",
    "print(recommender.get_collaborative_recommendations(user_id))\n",
    "print(\"\\nHybrid recommendations\")\n",
    "print(recommender.get_hybrid_recommendations(user_id, movie_title))"
   ]
  }
 ],
 "metadata": {
  "kernelspec": {
   "display_name": "Python 3",
   "language": "python",
   "name": "python3"
  },
  "language_info": {
   "codemirror_mode": {
    "name": "ipython",
    "version": 3
   },
   "file_extension": ".py",
   "mimetype": "text/x-python",
   "name": "python",
   "nbconvert_exporter": "python",
   "pygments_lexer": "ipython3",
   "version": "3.8.0"
  }
 },
 "nbformat": 4,
 "nbformat_minor": 4
}
